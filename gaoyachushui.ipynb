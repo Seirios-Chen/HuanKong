{
 "cells": [
  {
   "cell_type": "code",
   "execution_count": 37,
   "metadata": {},
   "outputs": [],
   "source": [
    "# Configure Jupyter so figures appear in the notebook\n",
    "%matplotlib inline\n",
    "\n",
    "# Configure Jupyter to display the assigned value after an assignment\n",
    "%config InteractiveShell.ast_node_interactivity='last_expr_or_assign'\n",
    "\n",
    "import math"
   ]
  },
  {
   "cell_type": "code",
   "execution_count": 38,
   "metadata": {},
   "outputs": [
    {
     "ename": "SyntaxError",
     "evalue": "invalid syntax (<ipython-input-38-2809ad1bb4d2>, line 4)",
     "output_type": "error",
     "traceback": [
      "\u001b[1;36m  File \u001b[1;32m\"<ipython-input-38-2809ad1bb4d2>\"\u001b[1;36m, line \u001b[1;32m4\u001b[0m\n\u001b[1;33m    delta_p12=\u001b[0m\n\u001b[1;37m              ^\u001b[0m\n\u001b[1;31mSyntaxError\u001b[0m\u001b[1;31m:\u001b[0m invalid syntax\n"
     ]
    }
   ],
   "source": [
    "# 用户自定义数据\n",
    "\n",
    "# 沿程损失\n",
    "delta_p12=\n",
    "delta_p23=\n",
    "delta_p34=\n",
    "delta_p45=\n",
    "delta_p56=\n",
    "delta_p67=\n",
    "delta_p78=\n",
    "delta_p910=\n",
    "\n",
    "# 效率\n",
    "eta_1=      #第一空气散热器\n",
    "eta_2=      #第二空气散热器\n",
    "eta_c=      #压缩机\n",
    "eta_T=      #涡轮\n",
    "eta_sp=     #水分离器\n",
    "\n",
    "# 入口气体状态\n",
    "p_1=      #压力\n",
    "T_1=      #温度\n",
    "d_1=      #含湿量（kg/kg干空气）\n",
    "\n",
    "# 出口气体状态\n",
    "p_10=      #压力\n",
    "T_10=      #温度\n",
    "d_10=      #含湿量（kg/kg干空气）\n",
    "\n",
    "# 环境空气状态\n",
    "T_H=      #温度"
   ]
  },
  {
   "cell_type": "code",
   "execution_count": null,
   "metadata": {},
   "outputs": [],
   "source": [
    "p_2=p_1-delta_p12\n",
    "T_2=T_1-eta_1*(T_1-T_H)\n",
    "\n",
    "pi_c=1\n",
    "pi_c0=1\n",
    "\n",
    "while True:\n",
    "    pi_c=pi_c0\n",
    "    p_3=p_2*pi_c\n",
    "    T_3=T_2*(1+(pi_c**0.286-1)/eta_c)\n",
    "    \n",
    "    p_4=p_3-delta_p34\n",
    "    T_4=T_3-eta_2*(T_3-T_H)\n",
    "    \n",
    "    p_5=p_4-delta_p45\n",
    "    \n",
    "    p_6=p_5-delta_p56\n",
    "    d_6=(d_10-(1-eta_sp)*d_1)/eta_sp\n",
    "    p_w6=p_6*d_6/(0.622+d_6)\n",
    "    T_6=235*(math.log(p_w6,10)-math.log(602.4,10))/(7.45-(math.log(p_w6,10)-math.log(602.4,10)))\n",
    "    \n",
    "    p_7=p_6-delta_p67\n",
    "    \n",
    "    p_8=p_7-delta_p78\n",
    "    p_9=p_10+delta_p910\n",
    "    epsilon_T=p_9/p_8\n",
    "    \n",
    "    T_5=T_4\n",
    "    h_5=1.81*T_5+d_1*(2500+1.84*T_5)\n",
    "    h_50=h_5\n",
    "    \n",
    "    while True:\n",
    "        h_5=h_50\n",
    "        \n",
    "        h_6=1.81*T_6+d_6*(2500+1.84*T_6)\n",
    "        h_7=h_6\n",
    "        h_10=1.81*T_10+d_10*(2500+1.84*T_10)\n",
    "        \n",
    "        h_9=h_10-(h_5-h_6)\n",
    "        T_9=(h_9-2500*d_10)/(1.81+1.84*d_10)\n",
    "        \n",
    "        T_8=T_9/(1-eta_T*(1-epsilon_T**(-0.286)))\n",
    "        h_8=1.81*T_8+d_10*(2500+1.84*T_8)\n",
    "        \n",
    "        T_30=T_8-T_9+T_2\n",
    "        \n",
    "        T_40=T_30-eta_2*(T_30-T_H)\n",
    "        h_40=1.81*T_40+d_1*(2500+1.84*T_40)\n",
    "        \n",
    "        h_50=h_40-(h_8-h_6)\n",
    "        \n",
    "        if abs(h_5-h_50)<10**(-6):\n",
    "            break\n",
    "    \n",
    "    pi_c0=(1+eta_c*(T_30/T_2-1))**(1/0.286)\n",
    "    \n",
    "    if abs(pi_c-pi_c0)<10**(-6):\n",
    "        break\n",
    "        \n",
    "print(\"该高压除水系统中，压缩机的压比为{:.2f}。\".format(pi_c))"
   ]
  }
 ],
 "metadata": {
  "kernelspec": {
   "display_name": "Python 3",
   "language": "python",
   "name": "python3"
  },
  "language_info": {
   "codemirror_mode": {
    "name": "ipython",
    "version": 3
   },
   "file_extension": ".py",
   "mimetype": "text/x-python",
   "name": "python",
   "nbconvert_exporter": "python",
   "pygments_lexer": "ipython3",
   "version": "3.7.0"
  }
 },
 "nbformat": 4,
 "nbformat_minor": 2
}
